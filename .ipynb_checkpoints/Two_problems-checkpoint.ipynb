{
 "cells": [
  {
   "cell_type": "code",
   "execution_count": 12,
   "metadata": {},
   "outputs": [
    {
     "name": "stdout",
     "output_type": "stream",
     "text": [
      "Name: nij\n",
      "Father Name: fsd\n",
      "Contact no. : 3423\n",
      "Do you wanna add another record? y/n n\n",
      "Name: nij/nFather Name: fsd/n Contact no. : 3423\n"
     ]
    }
   ],
   "source": [
    "while(True):\n",
    "    name1 = []\n",
    "    father2 = []\n",
    "    contact3 = []\n",
    "    name = input (\"Name: \")\n",
    "    father = input (\"Father Name: \")\n",
    "    contact = input (\"Contact no. : \")\n",
    "    \n",
    "    another = input(\"Do you wanna add another record? y/n \")\n",
    "    \n",
    "    if another == 'y':\n",
    "        name1.append(name)\n",
    "        father2.append(father)\n",
    "        contact3.append(contact)\n",
    "        \n",
    "    else:\n",
    "        print(\"Name: \" + str(name) +\"/n\" + \"Father Name: \" + str(father) + \"/n \"+\"Contact no. : \"+ str(contact))\n",
    "        break"
   ]
  },
  {
   "cell_type": "code",
   "execution_count": 11,
   "metadata": {},
   "outputs": [
    {
     "name": "stdout",
     "output_type": "stream",
     "text": [
      "Enter number: 4\n",
      "1 X 4 = 4    1 X 3 = 3    1 X 2 = 2\n",
      "2 X 4 = 8    2 X 3 = 6    2 X 2 = 4\n",
      "3 X 4 = 12    3 X 3 = 9    3 X 2 = 6\n",
      "4 X 4 = 16    4 X 3 = 12    4 X 2 = 8\n",
      "5 X 4 = 20    5 X 3 = 15    5 X 2 = 10\n",
      "6 X 4 = 24    6 X 3 = 18    6 X 2 = 12\n",
      "7 X 4 = 28    7 X 3 = 21    7 X 2 = 14\n",
      "8 X 4 = 32    8 X 3 = 24    8 X 2 = 16\n",
      "9 X 4 = 36    9 X 3 = 27    9 X 2 = 18\n",
      "10 X 4 = 40    10 X 3 = 30    10 X 2 = 20\n",
      "1 X 1 = 1    1 X 0 = 0    1 X -1 = -1\n",
      "2 X 1 = 2    2 X 0 = 0    2 X -1 = -2\n",
      "3 X 1 = 3    3 X 0 = 0    3 X -1 = -3\n",
      "4 X 1 = 4    4 X 0 = 0    4 X -1 = -4\n",
      "5 X 1 = 5    5 X 0 = 0    5 X -1 = -5\n",
      "6 X 1 = 6    6 X 0 = 0    6 X -1 = -6\n",
      "7 X 1 = 7    7 X 0 = 0    7 X -1 = -7\n",
      "8 X 1 = 8    8 X 0 = 0    8 X -1 = -8\n",
      "9 X 1 = 9    9 X 0 = 0    9 X -1 = -9\n",
      "10 X 1 = 10    10 X 0 = 0    10 X -1 = -10\n"
     ]
    }
   ],
   "source": [
    "num = int(input(\"Enter number: \"))\n",
    "while (num > 0):\n",
    "    for i in (range(1,11)):\n",
    "        #for j in range(num, 2, -1):\n",
    "        print(str(i) + \" X \" + str(num) + \" = \" + str(i*num) +\"    \"+ str(i) + \" X \" + str(num-1) + \\\n",
    "          \" = \" + str(i*(num-1))+\"    \"+ str(i) + \" X \" + str(num-2) + \" = \" + str(i*(num-2)))\n",
    "    num -= 3"
   ]
  },
  {
   "cell_type": "code",
   "execution_count": null,
   "metadata": {},
   "outputs": [],
   "source": []
  }
 ],
 "metadata": {
  "kernelspec": {
   "display_name": "Python 3",
   "language": "python",
   "name": "python3"
  },
  "language_info": {
   "codemirror_mode": {
    "name": "ipython",
    "version": 3
   },
   "file_extension": ".py",
   "mimetype": "text/x-python",
   "name": "python",
   "nbconvert_exporter": "python",
   "pygments_lexer": "ipython3",
   "version": "3.7.3"
  }
 },
 "nbformat": 4,
 "nbformat_minor": 2
}
