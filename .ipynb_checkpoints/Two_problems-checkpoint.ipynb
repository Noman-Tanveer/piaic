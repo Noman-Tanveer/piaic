{
 "cells": [
  {
   "cell_type": "code",
   "execution_count": 11,
   "metadata": {},
   "outputs": [
    {
     "ename": "SyntaxError",
     "evalue": "invalid syntax (<ipython-input-11-1d44de4970a3>, line 17)",
     "output_type": "error",
     "traceback": [
      "\u001b[1;36m  File \u001b[1;32m\"<ipython-input-11-1d44de4970a3>\"\u001b[1;36m, line \u001b[1;32m17\u001b[0m\n\u001b[1;33m    print(\"Name: \" + str(name) +/n + \"Father Name: \" + str(father) +/n+\"Contact no. : \"+ str(contact))\u001b[0m\n\u001b[1;37m                                ^\u001b[0m\n\u001b[1;31mSyntaxError\u001b[0m\u001b[1;31m:\u001b[0m invalid syntax\n"
     ]
    }
   ],
   "source": [
    "while(True):\n",
    "    name1 = []\n",
    "    father2 = []\n",
    "    contact3 = []\n",
    "    name = input (\"Name: \")\n",
    "    father = input (\"Father Name: \")\n",
    "    contact = input (\"Contact no. : \")\n",
    "    \n",
    "    another = input(\"Do you wanna add another record? y/n \")\n",
    "    \n",
    "    if another == 'y':\n",
    "        name1.append(name)\n",
    "        father2.append(father)\n",
    "        contact3.append(contact)\n",
    "        \n",
    "    else:\n",
    "        print(\"Name: \" + str(name) +\"/n\" + \"Father Name: \" + str(father) + \"/n \"+\"Contact no. : \"+ str(contact))\n",
    "        break"
   ]
  },
  {
   "cell_type": "code",
   "execution_count": 9,
   "metadata": {},
   "outputs": [
    {
     "ename": "SyntaxError",
     "evalue": "invalid syntax (<ipython-input-9-9309a072f98b>, line 5)",
     "output_type": "error",
     "traceback": [
      "\u001b[1;36m  File \u001b[1;32m\"<ipython-input-9-9309a072f98b>\"\u001b[1;36m, line \u001b[1;32m5\u001b[0m\n\u001b[1;33m    num -= 1\u001b[0m\n\u001b[1;37m      ^\u001b[0m\n\u001b[1;31mSyntaxError\u001b[0m\u001b[1;31m:\u001b[0m invalid syntax\n"
     ]
    }
   ],
   "source": [
    "num = int(input(\"Enter number: \"))\n",
    "while (num > 0):\n",
    "    for i in range(11):\n",
    "        print(str(i) + \" X \" + str(num) + \" = \" + str(i*num) +\"    \"+ str(i) + \" X \" + str(num-1) + \" = \" + str(i*(num-1)+\"    \"+ str(i) + \" X \" + str(num-1) + \" = \" + str(i*num-1))\n",
    "    num -= 1"
   ]
  },
  {
   "cell_type": "code",
   "execution_count": null,
   "metadata": {},
   "outputs": [],
   "source": []
  }
 ],
 "metadata": {
  "kernelspec": {
   "display_name": "Python 3",
   "language": "python",
   "name": "python3"
  },
  "language_info": {
   "codemirror_mode": {
    "name": "ipython",
    "version": 3
   },
   "file_extension": ".py",
   "mimetype": "text/x-python",
   "name": "python",
   "nbconvert_exporter": "python",
   "pygments_lexer": "ipython3",
   "version": "3.7.4"
  }
 },
 "nbformat": 4,
 "nbformat_minor": 2
}
