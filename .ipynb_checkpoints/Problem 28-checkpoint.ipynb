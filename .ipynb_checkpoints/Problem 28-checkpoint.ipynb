{
 "cells": [
  {
   "cell_type": "code",
   "execution_count": 6,
   "metadata": {},
   "outputs": [
    {
     "name": "stdout",
     "output_type": "stream",
     "text": [
      "3 2 2018\n",
      "2 4 2018\n",
      "200\n"
     ]
    }
   ],
   "source": [
    "b = input().split()\n",
    "a = input().split()\n",
    "fine = 0\n",
    "if(a[2]<=b[2]):\n",
    "    if(a[1]<=b[1]):\n",
    "        if(a[0]<=b[0]):\n",
    "            fine = 0\n",
    "        else:\n",
    "            fine = 15*(int(a[0])-int(b[0]))\n",
    "            print(fine)\n",
    "    else:\n",
    "        fine = 100*(int(a[1])-int(b[1]))\n",
    "        print(fine)\n",
    "    \n",
    "else:\n",
    "    fine = 1000*(int(a[2])-int(b[2]))\n",
    "    print(fine)"
   ]
  },
  {
   "cell_type": "code",
   "execution_count": null,
   "metadata": {},
   "outputs": [],
   "source": []
  }
 ],
 "metadata": {
  "kernelspec": {
   "display_name": "Python 3",
   "language": "python",
   "name": "python3"
  },
  "language_info": {
   "codemirror_mode": {
    "name": "ipython",
    "version": 3
   },
   "file_extension": ".py",
   "mimetype": "text/x-python",
   "name": "python",
   "nbconvert_exporter": "python",
   "pygments_lexer": "ipython3",
   "version": "3.7.3"
  }
 },
 "nbformat": 4,
 "nbformat_minor": 2
}
