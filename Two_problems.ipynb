{
 "cells": [
  {
   "cell_type": "code",
   "execution_count": 2,
   "metadata": {},
   "outputs": [
    {
     "name": "stdout",
     "output_type": "stream",
     "text": [
      "Name: gsds\n",
      "Father Name: fhsfdgsdf\n",
      "Contact no. : fdgsdfs\n",
      "Do you wanna add another record? y/n y\n",
      "Name: dfvbsdfbs\n",
      "Father Name: sdfvbsdfv\n",
      "Contact no. : dsfvsdfv\n",
      "Do you wanna add another record? y/n y\n",
      "Name: vgsdfgbsdfgb\n",
      "Father Name: sdfvsdfvsd\n",
      "Contact no. : sdf\n",
      "Do you wanna add another record? y/n n\n",
      "Name:\t['gsds', 'dfvbsdfbs', 'vgsdfgbsdfgb'] Father Name:\t['fhsfdgsdf', 'sdfvbsdfv', 'sdfvsdfvsd'] Contact no. :\t['fdgsdfs', 'dsfvsdfv', 'sdf']\n"
     ]
    }
   ],
   "source": [
    "names = []\n",
    "fathers = []\n",
    "contacts = []\n",
    "while(True):\n",
    "    names.append(input (\"Name: \"))\n",
    "    fathers.append(input (\"Father Name: \"))\n",
    "    contacts.append(input (\"Contact no. : \"))\n",
    "    \n",
    "    another = input(\"Do you wanna add another record? y/n \")\n",
    "    if another == 'n':\n",
    "        print(\"Name:\\t\"+ str(names), \"Father Name:\\t\" + str(fathers), \"Contact no. :\\t\"+ str(contacts))\n",
    "        break"
   ]
  },
  {
   "cell_type": "code",
   "execution_count": 8,
   "metadata": {},
   "outputs": [
    {
     "name": "stdout",
     "output_type": "stream",
     "text": [
      "Enter number: 7\n",
      "1 X 7 = 7\t1 X 6 = 6\t1 X 5 = 5\t\n",
      "\n",
      "2 X 7 = 14\t2 X 6 = 12\t2 X 5 = 10\t\n",
      "\n",
      "3 X 7 = 21\t3 X 6 = 18\t3 X 5 = 15\t\n",
      "\n",
      "4 X 7 = 28\t4 X 6 = 24\t4 X 5 = 20\t\n",
      "\n",
      "5 X 7 = 35\t5 X 6 = 30\t5 X 5 = 25\t\n",
      "\n",
      "6 X 7 = 42\t6 X 6 = 36\t6 X 5 = 30\t\n",
      "\n",
      "7 X 7 = 49\t7 X 6 = 42\t7 X 5 = 35\t\n",
      "\n",
      "8 X 7 = 56\t8 X 6 = 48\t8 X 5 = 40\t\n",
      "\n",
      "9 X 7 = 63\t9 X 6 = 54\t9 X 5 = 45\t\n",
      "\n",
      "10 X 7 = 70\t10 X 6 = 60\t10 X 5 = 50\t\n",
      "\n",
      "1 X 4 = 4\t1 X 3 = 3\t1 X 2 = 2\t\n",
      "\n",
      "2 X 4 = 8\t2 X 3 = 6\t2 X 2 = 4\t\n",
      "\n",
      "3 X 4 = 12\t3 X 3 = 9\t3 X 2 = 6\t\n",
      "\n",
      "4 X 4 = 16\t4 X 3 = 12\t4 X 2 = 8\t\n",
      "\n",
      "5 X 4 = 20\t5 X 3 = 15\t5 X 2 = 10\t\n",
      "\n",
      "6 X 4 = 24\t6 X 3 = 18\t6 X 2 = 12\t\n",
      "\n",
      "7 X 4 = 28\t7 X 3 = 21\t7 X 2 = 14\t\n",
      "\n",
      "8 X 4 = 32\t8 X 3 = 24\t8 X 2 = 16\t\n",
      "\n",
      "9 X 4 = 36\t9 X 3 = 27\t9 X 2 = 18\t\n",
      "\n",
      "10 X 4 = 40\t10 X 3 = 30\t10 X 2 = 20\t\n",
      "\n",
      "1 X 1 = 1\t\n",
      "\n",
      "2 X 1 = 2\t\n",
      "\n",
      "3 X 1 = 3\t\n",
      "\n",
      "4 X 1 = 4\t\n",
      "\n",
      "5 X 1 = 5\t\n",
      "\n",
      "6 X 1 = 6\t\n",
      "\n",
      "7 X 1 = 7\t\n",
      "\n",
      "8 X 1 = 8\t\n",
      "\n",
      "9 X 1 = 9\t\n",
      "\n",
      "10 X 1 = 10\t\n",
      "\n"
     ]
    }
   ],
   "source": [
    "num = int(input(\"Enter number: \"))\n",
    "for num in range(num, 0, -3):\n",
    "    for i in (range(1,11)):\n",
    "        for j in range(0,3,1):\n",
    "            if num-j>0:\n",
    "                print(i,\"X\",num-j,\"=\",(num-j)*i, end=\"\\t\")\n",
    "        print(\"\\n\")\n",
    "    num -= 3"
   ]
  },
  {
   "cell_type": "code",
   "execution_count": null,
   "metadata": {},
   "outputs": [],
   "source": []
  }
 ],
 "metadata": {
  "kernelspec": {
   "display_name": "Python 3",
   "language": "python",
   "name": "python3"
  },
  "language_info": {
   "codemirror_mode": {
    "name": "ipython",
    "version": 3
   },
   "file_extension": ".py",
   "mimetype": "text/x-python",
   "name": "python",
   "nbconvert_exporter": "python",
   "pygments_lexer": "ipython3",
   "version": "3.7.3"
  }
 },
 "nbformat": 4,
 "nbformat_minor": 2
}
