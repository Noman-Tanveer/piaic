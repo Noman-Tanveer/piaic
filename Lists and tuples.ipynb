{
 "cells": [
  {
   "cell_type": "code",
   "execution_count": 3,
   "metadata": {},
   "outputs": [
    {
     "name": "stdout",
     "output_type": "stream",
     "text": [
      "['A', 'B', 'C', 'D']\n",
      "<built-in method copy of list object at 0x00000275A04EB8C8>\n"
     ]
    }
   ],
   "source": [
    "name = []\n",
    "name.append(\"A\")\n",
    "name.append(\"B\")\n",
    "name.append(\"C\")\n",
    "name.append(\"D\")\n",
    "\n",
    "name2 = name.copy\n",
    "print(name)\n",
    "print(name2)"
   ]
  },
  {
   "cell_type": "code",
   "execution_count": 4,
   "metadata": {},
   "outputs": [
    {
     "data": {
      "text/plain": [
       "['A', 'B', 'C', 'D']"
      ]
     },
     "execution_count": 4,
     "metadata": {},
     "output_type": "execute_result"
    }
   ],
   "source": [
    "name"
   ]
  },
  {
   "cell_type": "code",
   "execution_count": 5,
   "metadata": {},
   "outputs": [
    {
     "data": {
      "text/plain": [
       "1"
      ]
     },
     "execution_count": 5,
     "metadata": {},
     "output_type": "execute_result"
    }
   ],
   "source": [
    "name.count(\"A\")"
   ]
  },
  {
   "cell_type": "code",
   "execution_count": 7,
   "metadata": {},
   "outputs": [
    {
     "data": {
      "text/plain": [
       "['A', 'B', 'C', 'D', 'A']"
      ]
     },
     "execution_count": 7,
     "metadata": {},
     "output_type": "execute_result"
    }
   ],
   "source": [
    "name.append('A')\n",
    "name"
   ]
  },
  {
   "cell_type": "code",
   "execution_count": 10,
   "metadata": {},
   "outputs": [
    {
     "data": {
      "text/plain": [
       "2"
      ]
     },
     "execution_count": 10,
     "metadata": {},
     "output_type": "execute_result"
    }
   ],
   "source": [
    "name.count('A')"
   ]
  },
  {
   "cell_type": "code",
   "execution_count": 11,
   "metadata": {},
   "outputs": [
    {
     "name": "stdout",
     "output_type": "stream",
     "text": [
      "['a', 'B', 'C', 'X', 'Y', 'Z'] ['X', 'Y', 'Z'] ['a', 'B', 'C']\n"
     ]
    }
   ],
   "source": [
    "l1 = ['a','B', 'C']\n",
    "l2 = ['X','Y', 'Z']\n",
    "l3 = l1 + l2\n",
    "print (l3, l2, l1)"
   ]
  },
  {
   "cell_type": "code",
   "execution_count": 13,
   "metadata": {},
   "outputs": [
    {
     "name": "stdout",
     "output_type": "stream",
     "text": [
      "None ['X', 'Y', 'Z'] ['A', 'B', 'C', 'X', 'Y', 'Z']\n"
     ]
    }
   ],
   "source": [
    "l1 = ['A','B', 'C']\n",
    "l2 = ['X','Y', 'Z']\n",
    "l3 = l1.extend(l2)     #doesn't return value\n",
    "print (l3, l2, l1)"
   ]
  },
  {
   "cell_type": "code",
   "execution_count": 14,
   "metadata": {},
   "outputs": [
    {
     "data": {
      "text/plain": [
       "['__add__',\n",
       " '__class__',\n",
       " '__contains__',\n",
       " '__delattr__',\n",
       " '__delitem__',\n",
       " '__dir__',\n",
       " '__doc__',\n",
       " '__eq__',\n",
       " '__format__',\n",
       " '__ge__',\n",
       " '__getattribute__',\n",
       " '__getitem__',\n",
       " '__gt__',\n",
       " '__hash__',\n",
       " '__iadd__',\n",
       " '__imul__',\n",
       " '__init__',\n",
       " '__init_subclass__',\n",
       " '__iter__',\n",
       " '__le__',\n",
       " '__len__',\n",
       " '__lt__',\n",
       " '__mul__',\n",
       " '__ne__',\n",
       " '__new__',\n",
       " '__reduce__',\n",
       " '__reduce_ex__',\n",
       " '__repr__',\n",
       " '__reversed__',\n",
       " '__rmul__',\n",
       " '__setattr__',\n",
       " '__setitem__',\n",
       " '__sizeof__',\n",
       " '__str__',\n",
       " '__subclasshook__',\n",
       " 'append',\n",
       " 'clear',\n",
       " 'copy',\n",
       " 'count',\n",
       " 'extend',\n",
       " 'index',\n",
       " 'insert',\n",
       " 'pop',\n",
       " 'remove',\n",
       " 'reverse',\n",
       " 'sort']"
      ]
     },
     "execution_count": 14,
     "metadata": {},
     "output_type": "execute_result"
    }
   ],
   "source": [
    "dir(list)"
   ]
  },
  {
   "cell_type": "code",
   "execution_count": 20,
   "metadata": {},
   "outputs": [
    {
     "name": "stdout",
     "output_type": "stream",
     "text": [
      "['A', 'B', 'C', 'X', 'Y', 'Z', 'A', 'A', 'A', 'A']\n",
      "6\n"
     ]
    }
   ],
   "source": [
    "l1.append(\"A\")\n",
    "print(l1)      #returns index of first element found\n",
    "name.index('A')\n",
    "print(l1.index(\"A\", 1))"
   ]
  },
  {
   "cell_type": "code",
   "execution_count": 26,
   "metadata": {},
   "outputs": [
    {
     "name": "stdout",
     "output_type": "stream",
     "text": [
      "['C', 'B', 'A']\n"
     ]
    }
   ],
   "source": [
    "#Chnge starting point\n",
    "l1 = []\n",
    "l1.insert(0, \"A\")\n",
    "l1.insert(0, \"B\")\n",
    "l1.insert(0, \"C\")\n",
    "print(l1)"
   ]
  },
  {
   "cell_type": "code",
   "execution_count": 27,
   "metadata": {},
   "outputs": [
    {
     "name": "stdout",
     "output_type": "stream",
     "text": [
      "['A', 'B']\n",
      "C\n"
     ]
    }
   ],
   "source": [
    "l1 = [\"A\", \"B\", \"C\"]\n",
    "a = l1.pop()\n",
    "a = del l1[0]\n",
    "print(l1)\n",
    "print(a)"
   ]
  },
  {
   "cell_type": "code",
   "execution_count": 29,
   "metadata": {},
   "outputs": [
    {
     "name": "stdout",
     "output_type": "stream",
     "text": [
      "[]\n"
     ]
    }
   ],
   "source": [
    "l1 = [\"A\", \"B\", \"C\"]\n",
    "l1.clear()      #removes all elements\n",
    "print(l1)"
   ]
  },
  {
   "cell_type": "code",
   "execution_count": 36,
   "metadata": {},
   "outputs": [
    {
     "name": "stdout",
     "output_type": "stream",
     "text": [
      "['C', 'D']\n",
      "B\n"
     ]
    }
   ],
   "source": [
    "l1 = [\"A\", \"B\", \"C\",\"D\"]\n",
    "a = l1.pop(1)\n",
    "del l1[0]\n",
    "print(l1)\n",
    "print(a)"
   ]
  },
  {
   "cell_type": "code",
   "execution_count": 38,
   "metadata": {},
   "outputs": [
    {
     "name": "stdout",
     "output_type": "stream",
     "text": [
      "['A', 'B', 'C']\n",
      "['A', 'B', 'C'] []\n"
     ]
    }
   ],
   "source": [
    "l1 = [\"A\", \"B\", \"C\"]\n",
    "l2 = l1.copy()\n",
    "#print(l2)\n",
    "l2.clear()\n",
    "print(l1, l2)"
   ]
  },
  {
   "cell_type": "code",
   "execution_count": 40,
   "metadata": {},
   "outputs": [
    {
     "name": "stdout",
     "output_type": "stream",
     "text": [
      "['A', 'B', 'C', 'D', 'C', 'E']\n",
      "['A', 'B', 'D', 'C', 'E']\n",
      "['A', 'B', 'D', 'E']\n"
     ]
    }
   ],
   "source": [
    "l1 = [\"A\", \"B\", \"C\", \"C\" , \"D\", \"C\", \"E\"]\n",
    "l1.remove(\"C\")     #remove by text value\n",
    "print(l1)\n",
    "l1.remove(\"C\")     #remove by text value\n",
    "print(l1)\n",
    "l1.remove(\"C\")     #remove by text value\n",
    "print(l1)"
   ]
  },
  {
   "cell_type": "code",
   "execution_count": 48,
   "metadata": {
    "scrolled": false
   },
   "outputs": [
    {
     "name": "stdout",
     "output_type": "stream",
     "text": [
      "['A', 'Z', 'X', 'B', 'C', 'D', 'Y']\n",
      "['Y', 'D', 'C', 'B', 'X', 'Z', 'A']\n",
      "None\n",
      "['Z', 'Y', 'X', 'D', 'C', 'B', 'A']\n"
     ]
    }
   ],
   "source": [
    "l1 = [\"A\", \"Z\", \"X\", \"B\", \"C\", \"D\", \"Y\"]\n",
    "print(l1)\n",
    "l1.reverse()\n",
    "print(l1)\n",
    "l1.sort()\n",
    "l1.reverse()\n",
    "print(l1)"
   ]
  },
  {
   "cell_type": "code",
   "execution_count": 51,
   "metadata": {},
   "outputs": [
    {
     "data": {
      "text/plain": [
       "['Z', 'Y', 'X', 'D', 'C', 'B', 'A']"
      ]
     },
     "execution_count": 51,
     "metadata": {},
     "output_type": "execute_result"
    }
   ],
   "source": [
    "l1 = [\"A\", \"Z\", \"X\", \"B\", \"C\", \"D\", \"Y\"]\n",
    "l1.sort(reverse=True)\n",
    "l1"
   ]
  },
  {
   "cell_type": "code",
   "execution_count": 55,
   "metadata": {},
   "outputs": [
    {
     "name": "stdout",
     "output_type": "stream",
     "text": [
      "['A', 'B', 'C', 'D', 'f', 'e']\n"
     ]
    }
   ],
   "source": [
    "l1 = [\"A\", \"B\", \"C\", \"D\"]\n",
    "l1.__add__(['D','E'])   #inline operation\n",
    "print( l1 + [\"f\", \"e\"])"
   ]
  },
  {
   "cell_type": "code",
   "execution_count": 53,
   "metadata": {},
   "outputs": [
    {
     "data": {
      "text/plain": [
       "list"
      ]
     },
     "execution_count": 53,
     "metadata": {},
     "output_type": "execute_result"
    }
   ],
   "source": [
    "l1 = [\"A\", \"C\"]\n",
    "l1.__class__"
   ]
  },
  {
   "cell_type": "code",
   "execution_count": 54,
   "metadata": {},
   "outputs": [
    {
     "data": {
      "text/plain": [
       "True"
      ]
     },
     "execution_count": 54,
     "metadata": {},
     "output_type": "execute_result"
    }
   ],
   "source": [
    "l1 = [\"A\", \"C\"]\n",
    "l1.__contains__(\"A\")"
   ]
  },
  {
   "cell_type": "code",
   "execution_count": 57,
   "metadata": {},
   "outputs": [
    {
     "data": {
      "text/plain": [
       "True"
      ]
     },
     "execution_count": 57,
     "metadata": {},
     "output_type": "execute_result"
    }
   ],
   "source": [
    "l1 = [\"A\", \"C\"]\n",
    "l2 = []\n",
    "l3 = []\n",
    "l2.__eq__(l3)                        #Shift+Tab"
   ]
  },
  {
   "cell_type": "code",
   "execution_count": 58,
   "metadata": {},
   "outputs": [
    {
     "data": {
      "text/plain": [
       "<method-wrapper '__add__' of list object at 0x00000275A3671588>"
      ]
     },
     "execution_count": 58,
     "metadata": {},
     "output_type": "execute_result"
    }
   ],
   "source": [
    "l1 = [\"A\", \"C\"]\n",
    "l1.__add__\n"
   ]
  },
  {
   "cell_type": "code",
   "execution_count": 62,
   "metadata": {},
   "outputs": [
    {
     "data": {
      "text/plain": [
       "False"
      ]
     },
     "execution_count": 62,
     "metadata": {},
     "output_type": "execute_result"
    }
   ],
   "source": [
    "l1 = [\"A\", \"C\"]\n",
    "l2 = [\"A\", \"B\"]\n",
    "l3 = [\"A\", \"D\"]\n",
    "l1.__ge__(l3)"
   ]
  },
  {
   "cell_type": "code",
   "execution_count": 60,
   "metadata": {},
   "outputs": [
    {
     "data": {
      "text/plain": [
       "['__add__',\n",
       " '__class__',\n",
       " '__contains__',\n",
       " '__delattr__',\n",
       " '__delitem__',\n",
       " '__dir__',\n",
       " '__doc__',\n",
       " '__eq__',\n",
       " '__format__',\n",
       " '__ge__',\n",
       " '__getattribute__',\n",
       " '__getitem__',\n",
       " '__gt__',\n",
       " '__hash__',\n",
       " '__iadd__',\n",
       " '__imul__',\n",
       " '__init__',\n",
       " '__init_subclass__',\n",
       " '__iter__',\n",
       " '__le__',\n",
       " '__len__',\n",
       " '__lt__',\n",
       " '__mul__',\n",
       " '__ne__',\n",
       " '__new__',\n",
       " '__reduce__',\n",
       " '__reduce_ex__',\n",
       " '__repr__',\n",
       " '__reversed__',\n",
       " '__rmul__',\n",
       " '__setattr__',\n",
       " '__setitem__',\n",
       " '__sizeof__',\n",
       " '__str__',\n",
       " '__subclasshook__',\n",
       " 'append',\n",
       " 'clear',\n",
       " 'copy',\n",
       " 'count',\n",
       " 'extend',\n",
       " 'index',\n",
       " 'insert',\n",
       " 'pop',\n",
       " 'remove',\n",
       " 'reverse',\n",
       " 'sort']"
      ]
     },
     "execution_count": 60,
     "metadata": {},
     "output_type": "execute_result"
    }
   ],
   "source": [
    "dir(list)"
   ]
  },
  {
   "cell_type": "code",
   "execution_count": 68,
   "metadata": {},
   "outputs": [
    {
     "data": {
      "text/plain": [
       "['Pakistan',\n",
       " 'Pakistan',\n",
       " 'Pakistan',\n",
       " 'Pakistan',\n",
       " 'Pakistan',\n",
       " 'Pakistan',\n",
       " 'Pakistan',\n",
       " 'Pakistan',\n",
       " 'Pakistan',\n",
       " 'Pakistan']"
      ]
     },
     "execution_count": 68,
     "metadata": {},
     "output_type": "execute_result"
    }
   ],
   "source": [
    "[\"Pakistan\"] *10"
   ]
  },
  {
   "cell_type": "markdown",
   "metadata": {},
   "source": [
    "# Loop"
   ]
  },
  {
   "cell_type": "code",
   "execution_count": 78,
   "metadata": {},
   "outputs": [
    {
     "name": "stdout",
     "output_type": "stream",
     "text": [
      "Pakistan 100\n",
      "Pakistan 99\n",
      "Pakistan 98\n",
      "Pakistan 97\n",
      "Pakistan 96\n",
      "Pakistan 95\n",
      "Pakistan 94\n",
      "Pakistan 93\n",
      "Pakistan 92\n",
      "Pakistan 91\n",
      "Pakistan 90\n"
     ]
    }
   ],
   "source": [
    "#for and While\n",
    "#Counter\n",
    "#Logic\n",
    "#Increment / Decrement\n",
    "\n",
    "counter = 100\n",
    "while counter >= 90:\n",
    "    print(\"Pakistan\", counter)\n",
    "    counter -= 1"
   ]
  },
  {
   "cell_type": "code",
   "execution_count": 75,
   "metadata": {},
   "outputs": [
    {
     "name": "stdout",
     "output_type": "stream",
     "text": [
      "Pakistan 90\n",
      "Pakistan 91\n",
      "Pakistan 92\n",
      "Pakistan 93\n",
      "Pakistan 94\n",
      "Pakistan 95\n",
      "Pakistan 96\n",
      "Pakistan 97\n",
      "Pakistan 98\n",
      "Pakistan 99\n"
     ]
    }
   ],
   "source": [
    "for counter in range(90,100):     #end \"not\" included\n",
    "    print (\"Pakistan\", counter)"
   ]
  },
  {
   "cell_type": "code",
   "execution_count": 80,
   "metadata": {},
   "outputs": [
    {
     "name": "stdout",
     "output_type": "stream",
     "text": [
      "A\n",
      "C\n"
     ]
    }
   ],
   "source": [
    "for counter in l1:\n",
    "    print (counter)"
   ]
  },
  {
   "cell_type": "code",
   "execution_count": 82,
   "metadata": {},
   "outputs": [
    {
     "name": "stdout",
     "output_type": "stream",
     "text": [
      "Pakistan 1\n",
      "Pakistan 2\n",
      "Pakistan 3\n",
      "Pakistan 4\n",
      "Pakistan 5\n",
      "Pakistan 6\n",
      "Pakistan 7\n",
      "Pakistan 8\n",
      "Pakistan 9\n",
      "Pakistan 10\n"
     ]
    },
    {
     "data": {
      "text/plain": [
       "[None, None, None, None, None, None, None, None, None, None]"
      ]
     },
     "execution_count": 82,
     "metadata": {},
     "output_type": "execute_result"
    }
   ],
   "source": [
    "[print(\"Pakistan\", counter) for counter in range(1,11)]"
   ]
  },
  {
   "cell_type": "markdown",
   "metadata": {},
   "source": [
    "# Tuple"
   ]
  },
  {
   "cell_type": "code",
   "execution_count": 87,
   "metadata": {},
   "outputs": [
    {
     "name": "stdout",
     "output_type": "stream",
     "text": [
      "2 X 1 = 2\n",
      "2 X 1 = 2\n",
      "2 X 2 = 4\n",
      "2 X 2 = 4\n",
      "2 X 3 = 6\n",
      "2 X 3 = 6\n",
      "2 X 4 = 8\n",
      "2 X 4 = 8\n",
      "2 X 5 = 10\n",
      "2 X 5 = 10\n",
      "2 X 6 = 12\n",
      "2 X 6 = 12\n",
      "2 X 7 = 14\n",
      "2 X 7 = 14\n",
      "2 X 8 = 16\n",
      "2 X 8 = 16\n",
      "2 X 9 = 18\n",
      "2 X 9 = 18\n",
      "2 X 10 = 20\n",
      "2 X 10 = 20\n"
     ]
    }
   ],
   "source": [
    "for i in range(1,11):\n",
    "    print(2, \"X\" , i, \"=\", 2*i)\n",
    "    print(\"2 X \" + str(i) + \" = \" + str(2*i))"
   ]
  },
  {
   "cell_type": "code",
   "execution_count": 88,
   "metadata": {},
   "outputs": [
    {
     "data": {
      "text/plain": [
       "['__add__',\n",
       " '__class__',\n",
       " '__contains__',\n",
       " '__delattr__',\n",
       " '__dir__',\n",
       " '__doc__',\n",
       " '__eq__',\n",
       " '__format__',\n",
       " '__ge__',\n",
       " '__getattribute__',\n",
       " '__getitem__',\n",
       " '__getnewargs__',\n",
       " '__gt__',\n",
       " '__hash__',\n",
       " '__init__',\n",
       " '__init_subclass__',\n",
       " '__iter__',\n",
       " '__le__',\n",
       " '__len__',\n",
       " '__lt__',\n",
       " '__mul__',\n",
       " '__ne__',\n",
       " '__new__',\n",
       " '__reduce__',\n",
       " '__reduce_ex__',\n",
       " '__repr__',\n",
       " '__rmul__',\n",
       " '__setattr__',\n",
       " '__sizeof__',\n",
       " '__str__',\n",
       " '__subclasshook__',\n",
       " 'count',\n",
       " 'index']"
      ]
     },
     "execution_count": 88,
     "metadata": {},
     "output_type": "execute_result"
    }
   ],
   "source": [
    "dir(tuple)"
   ]
  },
  {
   "cell_type": "code",
   "execution_count": 89,
   "metadata": {},
   "outputs": [
    {
     "data": {
      "text/plain": [
       "1"
      ]
     },
     "execution_count": 89,
     "metadata": {},
     "output_type": "execute_result"
    }
   ],
   "source": [
    "a = (1,2,3,4,5,6)\n",
    "a.count(1)"
   ]
  },
  {
   "cell_type": "code",
   "execution_count": 92,
   "metadata": {},
   "outputs": [
    {
     "data": {
      "text/plain": [
       "4"
      ]
     },
     "execution_count": 92,
     "metadata": {},
     "output_type": "execute_result"
    }
   ],
   "source": [
    "a.index(5)"
   ]
  },
  {
   "cell_type": "code",
   "execution_count": 121,
   "metadata": {},
   "outputs": [
    {
     "name": "stdout",
     "output_type": "stream",
     "text": [
      "1000\n",
      "999\n",
      "998\n",
      "997\n",
      "996\n",
      "995\n",
      "994\n",
      "993\n",
      "992\n",
      "991\n"
     ]
    }
   ],
   "source": [
    "for i in range(1000,990,-1):\n",
    "    print (i)"
   ]
  },
  {
   "cell_type": "code",
   "execution_count": 107,
   "metadata": {},
   "outputs": [
    {
     "name": "stdout",
     "output_type": "stream",
     "text": [
      "1000\n",
      "999\n",
      "998\n",
      "997\n",
      "996\n",
      "995\n",
      "994\n",
      "993\n",
      "992\n",
      "991\n",
      "990\n"
     ]
    }
   ],
   "source": [
    "i = 1000\n",
    "while i>=990:\n",
    "    print (i)\n",
    "    i -= 1"
   ]
  },
  {
   "cell_type": "code",
   "execution_count": 130,
   "metadata": {},
   "outputs": [
    {
     "name": "stdout",
     "output_type": "stream",
     "text": [
      "A a 0\n",
      "B b 1\n",
      "C c 2\n",
      "D d 3\n",
      "E e 4\n",
      "F f 5\n",
      "G g 6\n",
      "H h 7\n",
      "I i 8\n",
      "J j 9\n",
      "K k :\n",
      "L l ;\n",
      "M m <\n",
      "N n =\n",
      "O o >\n",
      "P p ?\n",
      "Q q @\n",
      "R r A\n",
      "S s B\n",
      "T t C\n",
      "U u D\n",
      "V v E\n",
      "W w F\n",
      "X x G\n",
      "Y y H\n",
      "Z z I\n"
     ]
    }
   ],
   "source": [
    "alpha = []\n",
    "Alpha = []\n",
    "num = []\n",
    "for i in range(65,91):\n",
    "    alpha.append(i)\n",
    "    \n",
    "for j in range(97,123): \n",
    "    Alpha.append(j)\n",
    "    \n",
    "for k in range(48,74):\n",
    "    num.append(k)\n",
    "    \n",
    "for l in range(26):\n",
    "    print(chr(alpha[l]), chr(Alpha[l]), chr(num[l]))"
   ]
  },
  {
   "cell_type": "code",
   "execution_count": null,
   "metadata": {},
   "outputs": [],
   "source": [
    "a= [[2,5,9],\n",
    "[8,9,10],\n",
    "[20,30,27],\n",
    "[35, 9, 20]]\n",
    "b = []\n",
    "for i in range(4):\n",
    "    for j in range(3):\n",
    "        if ((a[i][j]%5) ==0):\n",
    "            b.append((i,j,a[i][j]))\n",
    "print(b)"
   ]
  },
  {
   "cell_type": "code",
   "execution_count": 138,
   "metadata": {},
   "outputs": [
    {
     "name": "stdout",
     "output_type": "stream",
     "text": [
      "0\n",
      "5\n",
      "7\n",
      "10\n",
      "14\n",
      "15\n",
      "20\n",
      "21\n",
      "25\n",
      "28\n",
      "30\n",
      "35\n",
      "40\n",
      "42\n",
      "45\n",
      "49\n",
      "50\n",
      "55\n",
      "56\n",
      "60\n",
      "63\n",
      "65\n",
      "70\n",
      "75\n",
      "77\n",
      "80\n",
      "84\n",
      "85\n",
      "90\n",
      "91\n",
      "95\n",
      "98\n",
      "100\n",
      "105\n",
      "110\n",
      "112\n",
      "115\n",
      "119\n",
      "120\n",
      "125\n",
      "126\n",
      "130\n",
      "133\n",
      "135\n",
      "140\n",
      "145\n",
      "147\n",
      "150\n",
      "154\n",
      "155\n",
      "160\n",
      "161\n",
      "165\n",
      "168\n",
      "170\n",
      "175\n",
      "180\n",
      "182\n",
      "185\n",
      "189\n",
      "190\n",
      "195\n",
      "196\n",
      "200\n",
      "203\n",
      "205\n",
      "210\n",
      "215\n",
      "217\n",
      "220\n",
      "224\n",
      "225\n",
      "230\n",
      "231\n",
      "235\n",
      "238\n",
      "240\n",
      "245\n",
      "250\n",
      "252\n",
      "255\n",
      "259\n",
      "260\n",
      "265\n",
      "266\n",
      "270\n",
      "273\n",
      "275\n",
      "280\n",
      "285\n",
      "287\n",
      "290\n",
      "294\n",
      "295\n",
      "300\n",
      "301\n",
      "305\n",
      "308\n",
      "310\n",
      "315\n",
      "320\n",
      "322\n",
      "325\n",
      "329\n",
      "330\n",
      "335\n",
      "336\n",
      "340\n",
      "343\n",
      "345\n",
      "350\n",
      "355\n",
      "357\n",
      "360\n",
      "364\n",
      "365\n",
      "370\n",
      "371\n",
      "375\n",
      "378\n",
      "380\n",
      "385\n",
      "390\n",
      "392\n",
      "395\n",
      "399\n",
      "400\n",
      "405\n",
      "406\n",
      "410\n",
      "413\n",
      "415\n",
      "420\n",
      "425\n",
      "427\n",
      "430\n",
      "434\n",
      "435\n",
      "440\n",
      "441\n",
      "445\n",
      "448\n",
      "450\n",
      "455\n",
      "460\n",
      "462\n",
      "465\n",
      "469\n",
      "470\n",
      "475\n",
      "476\n",
      "480\n",
      "483\n",
      "485\n",
      "490\n",
      "495\n",
      "497\n",
      "500\n",
      "504\n",
      "505\n",
      "510\n",
      "511\n",
      "515\n",
      "518\n",
      "520\n",
      "525\n",
      "530\n",
      "532\n",
      "535\n",
      "539\n",
      "540\n",
      "545\n",
      "546\n",
      "550\n",
      "553\n",
      "555\n",
      "560\n",
      "565\n",
      "567\n",
      "570\n",
      "574\n",
      "575\n",
      "580\n",
      "581\n",
      "585\n",
      "588\n",
      "590\n",
      "595\n",
      "600\n",
      "602\n",
      "605\n",
      "609\n",
      "610\n",
      "615\n",
      "616\n",
      "620\n",
      "623\n",
      "625\n",
      "630\n",
      "635\n",
      "637\n",
      "640\n",
      "644\n",
      "645\n",
      "650\n",
      "651\n",
      "655\n",
      "658\n",
      "660\n",
      "665\n",
      "670\n",
      "672\n",
      "675\n",
      "679\n",
      "680\n",
      "685\n",
      "686\n",
      "690\n",
      "693\n",
      "695\n",
      "700\n",
      "705\n",
      "707\n",
      "710\n",
      "714\n",
      "715\n",
      "720\n",
      "721\n",
      "725\n",
      "728\n",
      "730\n",
      "735\n",
      "740\n",
      "742\n",
      "745\n",
      "749\n",
      "750\n",
      "755\n",
      "756\n",
      "760\n",
      "763\n",
      "765\n",
      "770\n",
      "775\n",
      "777\n",
      "780\n",
      "784\n",
      "785\n",
      "790\n",
      "791\n",
      "795\n",
      "798\n",
      "800\n",
      "805\n",
      "810\n",
      "812\n",
      "815\n",
      "819\n",
      "820\n",
      "825\n",
      "826\n",
      "830\n",
      "833\n",
      "835\n",
      "840\n",
      "845\n",
      "847\n",
      "850\n",
      "854\n",
      "855\n",
      "860\n",
      "861\n",
      "865\n",
      "868\n",
      "870\n",
      "875\n",
      "880\n",
      "882\n",
      "885\n",
      "889\n",
      "890\n",
      "895\n",
      "896\n",
      "900\n",
      "903\n",
      "905\n",
      "910\n",
      "915\n",
      "917\n",
      "920\n",
      "924\n",
      "925\n",
      "930\n",
      "931\n",
      "935\n",
      "938\n",
      "940\n",
      "945\n",
      "950\n",
      "952\n",
      "955\n",
      "959\n",
      "960\n",
      "965\n",
      "966\n",
      "970\n",
      "973\n",
      "975\n",
      "980\n",
      "985\n",
      "987\n",
      "990\n",
      "994\n",
      "995\n",
      "1000\n"
     ]
    }
   ],
   "source": [
    "for i in range(1001):#5, 7, 20\n",
    "    if (i%5==0 or i%7==0):\n",
    "        print(i)"
   ]
  },
  {
   "cell_type": "code",
   "execution_count": null,
   "metadata": {},
   "outputs": [],
   "source": [
    "while(True):\n",
    "    name1 = []\n",
    "    father2 = []\n",
    "    contact3 = []\n",
    "    name = input (\"Name: \")\n",
    "    father = input (\"Father Name: \")\n",
    "    contact = input (\"Contact no. : \")\n",
    "    \n",
    "    another = input(\"Do you wanna add another record? y/n \")\n",
    "    \n",
    "    if another == 'y':\n",
    "        name1.append(name)\n",
    "        father2.append(father)\n",
    "        contact3.append(contact)\n",
    "        print(\"Name: \" + str(name)/n + \"Father Name: \" + str(father)/n+\"Contact no. : \"+ str(contact/n))\n",
    "    else:\n",
    "        break"
   ]
  },
  {
   "cell_type": "code",
   "execution_count": null,
   "metadata": {},
   "outputs": [],
   "source": [
    "num = int(input(\"Enter number: \"))\n",
    "while (num > 0):\n",
    "    for i in range(11):\n",
    "        print(str(i) + \" X \" + str(num) + \" = \" + str(i*num) )\n",
    "    num -= 1"
   ]
  },
  {
   "cell_type": "code",
   "execution_count": null,
   "metadata": {},
   "outputs": [],
   "source": [
    "#Study Dictionary"
   ]
  },
  {
   "cell_type": "code",
   "execution_count": null,
   "metadata": {},
   "outputs": [],
   "source": []
  }
 ],
 "metadata": {
  "kernelspec": {
   "display_name": "Python 3",
   "language": "python",
   "name": "python3"
  },
  "language_info": {
   "codemirror_mode": {
    "name": "ipython",
    "version": 3
   },
   "file_extension": ".py",
   "mimetype": "text/x-python",
   "name": "python",
   "nbconvert_exporter": "python",
   "pygments_lexer": "ipython3",
   "version": "3.7.4"
  }
 },
 "nbformat": 4,
 "nbformat_minor": 2
}
